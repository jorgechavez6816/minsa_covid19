{
 "cells": [
  {
   "cell_type": "code",
   "execution_count": 11,
   "metadata": {},
   "outputs": [],
   "source": [
    "### Procedimiento automatizado de descarga de datos del COVID\n",
    "\n",
    "# 01. Librerías a utilizar\n",
    "from urllib.request import urlopen\n",
    "from zipfile import ZipFile\n",
    "\n",
    "# 02. Definición de ruta web\n",
    "zip_url = 'https://www.datosabiertos.gob.pe/sites/default/files/DATOSABIERTOS_SISCOVID.zip'\n",
    "\n",
    "# 03. Abrir URL\n",
    "archivo_zip = urlopen(zip_url)\n",
    "\n",
    "# 04. Crea un archivo temporal de tránsito en disco duro\n",
    "tempo_zip = open(\"C:\\\\Users\\\\Intel\\\\temporal.zip\", \"wb\")\n",
    "\n",
    "# 05. Traslada info de archivo descargado a nuevo archvo\n",
    "tempo_zip.write(archivo_zip.read())\n",
    "\n",
    "# 06. Cierra el archivo temporal creado\n",
    "tempo_zip.close()\n",
    "\n",
    "# 07. Re-open the newly-created file with ZipFile()\n",
    "z_final = ZipFile(\"C:\\\\Users\\\\Intel\\\\temporal.zip\")\n",
    "\n",
    "# 08. Deposita el archivo extraido en ruta señalada\n",
    "z_final.extractall(path = 'C:\\\\Users\\\\Intel\\\\Documents\\\\Mis documentos IDEA\\\\Samples\\\\Archivos fuente.ILB')\n",
    "\n",
    "# 09. Cierra el archivo zip\n",
    "z_final.close()"
   ]
  },
  {
   "cell_type": "code",
   "execution_count": null,
   "metadata": {},
   "outputs": [],
   "source": []
  }
 ],
 "metadata": {
  "kernelspec": {
   "display_name": "Python 3",
   "language": "python",
   "name": "python3"
  },
  "language_info": {
   "codemirror_mode": {
    "name": "ipython",
    "version": 3
   },
   "file_extension": ".py",
   "mimetype": "text/x-python",
   "name": "python",
   "nbconvert_exporter": "python",
   "pygments_lexer": "ipython3",
   "version": "3.7.6"
  }
 },
 "nbformat": 4,
 "nbformat_minor": 4
}
